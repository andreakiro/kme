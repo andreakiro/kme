{
 "cells": [
  {
   "cell_type": "markdown",
   "metadata": {},
   "source": [
    "# mess around with scipy voronoi"
   ]
  },
  {
   "cell_type": "code",
   "execution_count": null,
   "metadata": {},
   "outputs": [],
   "source": [
    "from scipy.spatial import Voronoi\n",
    "x=[0,1,0,1,0,1,0,1,0,1]\n",
    "y=[0,0,1,1,2,2,3,3.5,4,4.5]\n",
    "z=[0,0,0,0,0,1,1,1,1,1]\n",
    "points2d = list(zip(x,y))\n",
    "points3d = list(zip(x,y,z))"
   ]
  },
  {
   "cell_type": "code",
   "execution_count": null,
   "metadata": {},
   "outputs": [],
   "source": [
    "# plot the 3d points on euclidean space\n",
    "import matplotlib.pyplot as plt\n",
    "fig = plt.figure()\n",
    "ax = fig.add_subplot(111, projection='3d')\n",
    "ax.scatter(x, y, z)\n",
    "plt.show()"
   ]
  },
  {
   "cell_type": "code",
   "execution_count": null,
   "metadata": {},
   "outputs": [],
   "source": [
    "# plot the voronoi diagram of 2d points\n",
    "from scipy.spatial import voronoi_plot_2d\n",
    "v = Voronoi(points2d)\n",
    "voronoi_plot_2d(v);"
   ]
  },
  {
   "cell_type": "code",
   "execution_count": null,
   "metadata": {},
   "outputs": [],
   "source": [
    "import numpy as np\n",
    "from scipy.spatial import ConvexHull\n",
    "\n",
    "def voronoi_volumes(points):\n",
    "    v = Voronoi(points)\n",
    "    vol = np.zeros(v.npoints)\n",
    "    for i, reg_num in enumerate(v.point_region):\n",
    "        indices = v.regions[reg_num]\n",
    "        if -1 in indices: # some regions can be opened\n",
    "            vol[i] = np.inf\n",
    "        else:\n",
    "            vol[i] = ConvexHull(v.vertices[indices]).volume\n",
    "    return vol"
   ]
  },
  {
   "cell_type": "code",
   "execution_count": null,
   "metadata": {},
   "outputs": [],
   "source": [
    "voronoi_volumes(points2d)"
   ]
  },
  {
   "cell_type": "code",
   "execution_count": null,
   "metadata": {},
   "outputs": [],
   "source": [
    "# generate 1000 random points in 2d\n",
    "x = np.random.rand(50)\n",
    "y = np.random.rand(50)\n",
    "points = list(zip(x,y))\n",
    "\n",
    "# plot the voronoi diagram of 1000 random points\n",
    "v = Voronoi(points)\n",
    "voronoi_plot_2d(v);"
   ]
  },
  {
   "cell_type": "code",
   "execution_count": null,
   "metadata": {},
   "outputs": [],
   "source": [
    "voronoi_volumes(points)"
   ]
  },
  {
   "cell_type": "markdown",
   "metadata": {},
   "source": [
    "# plug kmeans density estimate"
   ]
  },
  {
   "cell_type": "code",
   "execution_count": null,
   "metadata": {},
   "outputs": [],
   "source": [
    "from rum.manifold.euclidean import EuclideanManifold\n",
    "m = EuclideanManifold(dim=2, sampler={'type': 'uniform', 'low': -1, 'high': 1})\n",
    "s = m.random_walk(n=1000)"
   ]
  },
  {
   "cell_type": "code",
   "execution_count": null,
   "metadata": {},
   "outputs": [],
   "source": [
    "from rum.density.kmeans import KMeansDensityEstimator\n",
    "kmeans = KMeansDensityEstimator(k=50, dim_states=2)"
   ]
  },
  {
   "cell_type": "code",
   "execution_count": null,
   "metadata": {},
   "outputs": [],
   "source": [
    "from matplotlib import pyplot as plt\n",
    "points2d = kmeans.centroids.numpy()\n",
    "plt.scatter(points2d[:,0], points2d[:,1], label='kmeans centers', s=5)\n",
    "plt.legend()"
   ]
  },
  {
   "cell_type": "code",
   "execution_count": null,
   "metadata": {},
   "outputs": [],
   "source": [
    "centers = kmeans.centroids.numpy()\n",
    "diameters = kmeans.diameters.numpy()\n",
    "radius = diameters / 2\n",
    "\n",
    "fig, ax = plt.subplots()\n",
    "ax.scatter(centers[:,0], centers[:,1], s=5)\n",
    "for i in range(len(centers)):\n",
    "    circle = plt.Circle((centers[i,0], centers[i,1]), radius[i], fill=False)\n",
    "    ax.add_artist(circle)\n",
    "plt.show()"
   ]
  },
  {
   "cell_type": "code",
   "execution_count": null,
   "metadata": {},
   "outputs": [],
   "source": [
    "from scipy.spatial import voronoi_plot_2d, Voronoi\n",
    "voronoi_plot_2d(Voronoi(kmeans.centroids.numpy()));"
   ]
  },
  {
   "cell_type": "code",
   "execution_count": null,
   "metadata": {},
   "outputs": [],
   "source": [
    "centers = kmeans.centroids.numpy()\n",
    "diameters = kmeans.diameters.numpy()\n",
    "radius = diameters / 2\n",
    "\n",
    "vor = Voronoi(centers)\n",
    "\n",
    "# Plot the Voronoi diagram\n",
    "fig, ax = plt.subplots()\n",
    "voronoi_plot_2d(vor, ax=ax, point_size=3, show_vertices=False)\n",
    "\n",
    "# Overlay the circles onto the Voronoi diagram\n",
    "for i, center in enumerate(centers):\n",
    "    circle = plt.Circle(center, radius[i], color='orange', fill=False)\n",
    "    ax.add_artist(circle)\n",
    "\n",
    "plt.show()"
   ]
  },
  {
   "cell_type": "markdown",
   "metadata": {},
   "source": [
    "# actually run the kmeans estimate"
   ]
  },
  {
   "cell_type": "code",
   "execution_count": null,
   "metadata": {},
   "outputs": [],
   "source": [
    "def voroplot(ax, kmeans):\n",
    "    centers = kmeans.centroids.numpy()\n",
    "    diameters = kmeans.diameters.numpy()\n",
    "    radius = diameters / 2\n",
    "\n",
    "    vor = Voronoi(centers)\n",
    "\n",
    "    # Plot the Voronoi diagram\n",
    "    voronoi_plot_2d(vor, ax=ax, point_size=3, show_vertices=False)\n",
    "\n",
    "    # Overlay the circles onto the Voronoi diagram\n",
    "    for i, center in enumerate(centers):\n",
    "        circle = plt.Circle(center, radius[i], color='orange', fill=False)\n",
    "        ax.add_artist(circle)\n",
    "\n",
    "    return ax"
   ]
  },
  {
   "cell_type": "code",
   "execution_count": null,
   "metadata": {},
   "outputs": [],
   "source": [
    "from rum.manifold.euclidean import EuclideanManifold\n",
    "m = EuclideanManifold(dim=2, sampler={'type': 'uniform', 'low': -1, 'high': 1})\n",
    "s = m.random_walk(n=1000)"
   ]
  },
  {
   "cell_type": "code",
   "execution_count": null,
   "metadata": {},
   "outputs": [],
   "source": [
    "plt.scatter(s[:,0], s[:,1], label='traj', s=1, color='red')"
   ]
  },
  {
   "cell_type": "code",
   "execution_count": null,
   "metadata": {},
   "outputs": [],
   "source": [
    "from rum.density.kmeans import KMeansDensityEstimator\n",
    "kmeans = KMeansDensityEstimator(k=50, dim_states=2)"
   ]
  },
  {
   "cell_type": "code",
   "execution_count": null,
   "metadata": {},
   "outputs": [],
   "source": [
    "fig, ax = plt.subplots(figsize=(3, 3))\n",
    "voroplot(ax, kmeans)"
   ]
  },
  {
   "cell_type": "code",
   "execution_count": null,
   "metadata": {},
   "outputs": [],
   "source": [
    "# trajectory movie\n",
    "\n",
    "from matplotlib.animation import FuncAnimation\n",
    "\n",
    "fig, ax = plt.subplots(figsize=(6, 6))\n",
    "steps = len(s)\n",
    "\n",
    "def trajectory(idx):\n",
    "    ax.clear()\n",
    "    lb = min(0, idx-50)\n",
    "    plt.scatter(s[lb:idx, 0], s[lb:idx, 1], label='traj', s=1, color='red')\n",
    "\n",
    "ani = FuncAnimation(fig, trajectory, frames=steps, repeat=False)\n",
    "ani.save('traj.mp4', writer='ffmpeg', fps=10)\n",
    "plt.close(fig)"
   ]
  },
  {
   "cell_type": "code",
   "execution_count": null,
   "metadata": {},
   "outputs": [],
   "source": [
    "import torch\n",
    "s = torch.Tensor(m.random_walk(n=1000))\n",
    "c1 = kmeans.centroids.clone().numpy()\n",
    "kmeans.learn(s)\n",
    "c2 = kmeans.centroids.clone().numpy()\n",
    "print((c2 - c1)[:10])"
   ]
  },
  {
   "cell_type": "markdown",
   "metadata": {},
   "source": [
    "# all in!"
   ]
  },
  {
   "cell_type": "code",
   "execution_count": 1,
   "metadata": {},
   "outputs": [],
   "source": [
    "from matplotlib import pyplot as plt\n",
    "from matplotlib.animation import FuncAnimation\n",
    "from scipy.spatial import voronoi_plot_2d, Voronoi\n",
    "from scipy.spatial import ConvexHull\n",
    "from scipy.special import gamma\n",
    "\n",
    "from rum.density.kmeans import KMeansDensityEstimator\n",
    "from rum.manifold.euclidean import EuclideanManifold\n",
    "\n",
    "import numpy as np\n",
    "import torch\n",
    "import math\n",
    "\n",
    "def voroplot(ax, kmeans):\n",
    "    centers = kmeans.centroids.numpy()\n",
    "    diameters = kmeans.diameters.numpy()\n",
    "    radius = diameters / 2\n",
    "    vor = Voronoi(centers)\n",
    "    voronoi_plot_2d(vor, ax=ax, point_size=3, show_vertices=False)\n",
    "    for i, center in enumerate(centers):\n",
    "        circle = plt.Circle(center, radius[i], color='orange', fill=False)\n",
    "        ax.add_artist(circle)\n",
    "\n",
    "def trajplot(ax, states, idx, buffer=50):\n",
    "    lb = max(0, idx-buffer)\n",
    "    states = states.numpy()\n",
    "    ax.scatter(states[lb:idx, 0], states[lb:idx, 1], label='walk', s=1, color='red')\n",
    "\n",
    "def voronoi_volumes(points):\n",
    "    v = Voronoi(points)\n",
    "    vol = np.zeros(v.npoints)\n",
    "    for i, reg_num in enumerate(v.point_region):\n",
    "        indices = v.regions[reg_num]\n",
    "        if -1 in indices: # some regions can be opened\n",
    "            vol[i] = np.inf\n",
    "        else:\n",
    "            vol[i] = ConvexHull(v.vertices[indices]).volume\n",
    "    return vol\n",
    "\n",
    "def volume_nsphere(radius, n):\n",
    "    volume = (math.pi ** (n / 2)) / gamma((n / 2) + 1) * (radius ** n)\n",
    "    return volume\n",
    "\n",
    "def compute_ratio(kmeans):\n",
    "    points = kmeans.centroids.numpy()\n",
    "    vor = Voronoi(points)\n",
    "    radius = (kmeans.diameters / 2).numpy()\n",
    "    clusters_vols = [volume_nsphere(r, dim) for r in radius]\n",
    "    voronoi_vols = voronoi_volumes(points)\n",
    "    ratio = clusters_vols / voronoi_vols\n",
    "    ratio = ratio[ratio != 0]\n",
    "    avg_ratio = ratio.mean()\n",
    "    return avg_ratio\n",
    "\n",
    "k, dim = 300, 2\n",
    "x_low, x_high = -1, 1\n",
    "\n",
    "m = EuclideanManifold(dim=dim, sampler={'type': 'uniform', 'low': x_low, 'high': x_high})\n",
    "kmeans = KMeansDensityEstimator(k=k, dim_states=dim)\n",
    "states = torch.Tensor(m.random_walk(n=5000))\n",
    "\n",
    "fig, ax = plt.subplots(figsize=(6, 6))\n",
    "ratios = []\n",
    "\n",
    "def movie(idx):\n",
    "    s = states[idx].view(-1, dim)\n",
    "    kmeans.learn(s)\n",
    "    ax.clear()\n",
    "    voroplot(ax, kmeans)\n",
    "    trajplot(ax, states, idx)\n",
    "    ax.set_xlim(x_low, x_high)\n",
    "    ax.set_ylim(x_low, x_high)\n",
    "    ax.set_title(f'kmeans density estimate live k={k}')\n",
    "    ax.legend(loc='upper left')\n",
    "    ratios.append(compute_ratio(kmeans))\n",
    "\n",
    "# Create an animation by repeatedly calling update\n",
    "ani = FuncAnimation(fig, movie, frames=range(len(states)), repeat=False)\n",
    "ani.save(f'kmeans-{k}.mp4', writer='ffmpeg', fps=200)\n",
    "plt.close(fig)"
   ]
  },
  {
   "cell_type": "code",
   "execution_count": 2,
   "metadata": {},
   "outputs": [
    {
     "data": {
      "text/plain": [
       "[<matplotlib.lines.Line2D at 0x16cbde250>]"
      ]
     },
     "execution_count": 2,
     "metadata": {},
     "output_type": "execute_result"
    },
    {
     "data": {
      "image/png": "[encoded data removed]",
      "text/plain": [
       "<Figure size 640x480 with 1 Axes>"
      ]
     },
     "metadata": {},
     "output_type": "display_data"
    }
   ],
   "source": [
    "# avg ratio\n",
    "plt.plot(ratios)"
   ]
  },
  {
   "cell_type": "code",
   "execution_count": null,
   "metadata": {},
   "outputs": [],
   "source": []
  }
 ],
 "metadata": {
  "kernelspec": {
   "display_name": "rum-iyef",
   "language": "python",
   "name": "python3"
  },
  "language_info": {
   "codemirror_mode": {
    "name": "ipython",
    "version": 3
   },
   "file_extension": ".py",
   "mimetype": "text/x-python",
   "name": "python",
   "nbconvert_exporter": "python",
   "pygments_lexer": "ipython3",
   "version": "3.9.18"
  }
 },
 "nbformat": 4,
 "nbformat_minor": 2
}
